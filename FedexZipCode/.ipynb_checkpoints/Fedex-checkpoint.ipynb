{
 "cells": [
  {
   "cell_type": "code",
   "execution_count": 34,
   "id": "0e947889",
   "metadata": {},
   "outputs": [],
   "source": [
    "from selenium import webdriver\n",
    "from selenium.webdriver.common.by import By\n",
    "from selenium.webdriver.chrome.service import Service\n",
    "from webdriver_manager.chrome import ChromeDriverManager\n",
    "from selenium.webdriver.support.ui import WebDriverWait, Select\n",
    "from selenium.webdriver.common.action_chains import ActionChains\n",
    "from selenium.webdriver.support import expected_conditions as EC\n",
    "from selenium.webdriver.common.keys import Keys\n",
    "import pandas as pd\n",
    "import time"
   ]
  },
  {
   "cell_type": "code",
   "execution_count": 35,
   "id": "af52a8e2",
   "metadata": {},
   "outputs": [],
   "source": [
    "def fiveListItems(d):\n",
    "    return len(d.find_elements(by = By.TAG_NAME, value = 'li')) >= 5"
   ]
  },
  {
   "cell_type": "code",
   "execution_count": null,
   "id": "b0a6dab3",
   "metadata": {},
   "outputs": [
    {
     "name": "stderr",
     "output_type": "stream",
     "text": [
      "\n",
      "\n",
      "====== WebDriver manager ======\n",
      "Current google-chrome version is 103.0.5060\n",
      "Get LATEST chromedriver version for 103.0.5060 google-chrome\n",
      "Driver [/Users/roryliao/.wdm/drivers/chromedriver/mac64/103.0.5060.134/chromedriver] found in cache\n"
     ]
    }
   ],
   "source": [
    "alphabet = \"abcdefghijklmnopqrstuvwxyz\"\n",
    "\n",
    "driver = webdriver.Chrome(service=Service(ChromeDriverManager().install()))\n",
    "\n",
    "driver.get('https://www.fedex.com/en-us/online/rating.html#')\n",
    "\n",
    "WebDriverWait(driver, timeout = 10).until(lambda d: d.find_element(by = By.CSS_SELECTOR, value = 'span.fdx-c-form-group__item'))\n",
    "\n",
    "toAndFrom = driver.find_elements(by = By.CSS_SELECTOR, value = 'span.fdx-c-form-group__item')\n",
    "\n",
    "toButton = toAndFrom[0].find_element(by = By.CSS_SELECTOR, value = 'input')\n",
    "fromButton = toAndFrom[1].find_element(by = By.CSS_SELECTOR, value = 'input')\n",
    "\n",
    "toButton.click()\n",
    "toButton.send_keys(\"Nashua, NH, 03060, United States\")\n",
    "\n",
    "time.sleep(2)\n",
    "WebDriverWait(driver, timeout = 10).until(lambda d: d.find_element(by = By.ID, value = 'e2eGoogleAddressSuggestionList'))\n",
    "\n",
    "suggestions = driver.find_element(by = By.ID, value = 'e2eGoogleAddressSuggestionList')\n",
    "\n",
    "time.sleep(2)\n",
    "WebDriverWait(driver, timeout = 10).until(lambda d: fiveListItems(d))\n",
    "\n",
    "temp = suggestions.find_elements(by = By.TAG_NAME, value = 'li')\n",
    "temp[0].click()\n",
    "\n",
    "fromButton.click()\n",
    "fromButton.send_keys(\"China\")\n",
    "\n",
    "time.sleep(2)\n",
    "WebDriverWait(driver, timeout = 10).until(lambda d: d.find_element(by = By.ID, value = 'e2eGoogleAddressSuggestionList'))\n",
    "\n",
    "suggestions = driver.find_element(by = By.ID, value = 'e2eGoogleAddressSuggestionList')\n",
    "\n",
    "time.sleep(2)\n",
    "WebDriverWait(driver, timeout = 10).until(lambda d: fiveListItems(d))\n",
    "\n",
    "temp = suggestions.find_elements(by = By.TAG_NAME, value = 'li')\n",
    "\n",
    "temp[1].click()\n",
    "\n",
    "WebDriverWait(driver, timeout = 10).until(lambda d: d.find_element(by = By.ID, value = 'field_rating.cityDestination'))\n",
    "\n",
    "postalCode = driver.find_element(by = By.ID, value = 'toPostcode')\n",
    "cities = driver.find_element(by = By.ID, value = 'field_rating.cityDestination')\n",
    "\n",
    "data = pd.read_csv(\"zipCodes.csv\")\n",
    "\n",
    "action = webdriver.common.action_chains.ActionChains(driver)\n",
    "action.move_to_element_with_offset(postalCode, -10, -10)\n",
    "\n",
    "temp = driver.find_elements(by = By.CSS_SELECTOR, value = 'div.floating-label')\n",
    "\n",
    "for i in range(data['ZipCode'][len(data) - 1] + 1, 999999):\n",
    "    postalCode.click()\n",
    "    postalCode.send_keys(str(i))\n",
    "    postalCode.send_keys(Keys.RETURN)\n",
    "    \n",
    "    action.click()\n",
    "    action.perform()\n",
    "    \n",
    "    time.sleep(1)\n",
    "    \n",
    "    postalCode.clear()\n",
    "    \n",
    "    postalCodeErrors = driver.find_element(by = By.ID, value = 'toPostalCodeErrors')\n",
    "    childs = postalCodeErrors.find_elements(by = By.XPATH, value = './*')\n",
    "\n",
    "    if len(childs) == 0:\n",
    "        data = data.append({\"ZipCode\": i}, ignore_index = True)\n",
    "        \n",
    "    if i % 100 == 0:\n",
    "        data.to_csv(\"zipCodes.csv\", index = False)\n",
    "        \n",
    "data.to_csv(\"zipCodes.csv\", index = False)\n",
    "driver.close()"
   ]
  },
  {
   "cell_type": "code",
   "execution_count": 81,
   "id": "2fea564b",
   "metadata": {},
   "outputs": [],
   "source": []
  }
 ],
 "metadata": {
  "kernelspec": {
   "display_name": "Python 3 (ipykernel)",
   "language": "python",
   "name": "python3"
  },
  "language_info": {
   "codemirror_mode": {
    "name": "ipython",
    "version": 3
   },
   "file_extension": ".py",
   "mimetype": "text/x-python",
   "name": "python",
   "nbconvert_exporter": "python",
   "pygments_lexer": "ipython3",
   "version": "3.9.6"
  }
 },
 "nbformat": 4,
 "nbformat_minor": 5
}
